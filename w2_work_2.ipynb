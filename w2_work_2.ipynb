{
  "nbformat": 4,
  "nbformat_minor": 0,
  "metadata": {
    "colab": {
      "provenance": [],
      "authorship_tag": "ABX9TyPnO5NhKzTddPv1746+EVmV",
      "include_colab_link": true
    },
    "kernelspec": {
      "name": "python3",
      "display_name": "Python 3"
    },
    "language_info": {
      "name": "python"
    }
  },
  "cells": [
    {
      "cell_type": "markdown",
      "metadata": {
        "id": "view-in-github",
        "colab_type": "text"
      },
      "source": [
        "<a href=\"https://colab.research.google.com/github/yunustalip/w2---work2/blob/main/w2_work_2.ipynb\" target=\"_parent\"><img src=\"https://colab.research.google.com/assets/colab-badge.svg\" alt=\"Open In Colab\"/></a>"
      ]
    },
    {
      "cell_type": "code",
      "execution_count": null,
      "metadata": {
        "id": "LzecBnvd0kjX"
      },
      "outputs": [],
      "source": [
        "import pandas as pd\n",
        "\n",
        "df = pd.read_csv('president_heights.csv')\n",
        "enuzun= df[df['height(cm)'] == df['height(cm)'].max()][\"order\"].values\n",
        "enkısa= df[df['height(cm)'] == df['height(cm)'].min()][\"order\"].values\n",
        "\n",
        "\n",
        "print(\"En uzun boylu başkan\", \"lar\" if len(enuzun)>1 else \"\", sep=\"\")\n",
        "for i in enuzun:\n",
        "    print(i,\". başkan\", sep=\"\")\n",
        "\n",
        "print(\"----------------------\")\n",
        "\n",
        "print(\"En kısa boylu başkan\",\"lar\" if len(enkısa)>1 else \"\", sep=\"\")\n",
        "for i in enkısa:\n",
        "    print(i,\". başkan\", sep=\"\")"
      ]
    }
  ]
}